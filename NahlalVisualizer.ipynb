{
 "cells": [
  {
   "cell_type": "code",
   "execution_count": 7,
   "metadata": {},
   "outputs": [
    {
     "name": "stdout",
     "output_type": "stream",
     "text": [
      "The autoreload extension is already loaded. To reload it, use:\n",
      "  %reload_ext autoreload\n"
     ]
    }
   ],
   "source": [
    "# %load_ext nb_black\n",
    "%load_ext autoreload\n",
    "%autoreload 2"
   ]
  },
  {
   "cell_type": "code",
   "execution_count": null,
   "metadata": {},
   "outputs": [],
   "source": [
    "\n"
   ]
  },
  {
   "cell_type": "code",
   "execution_count": 2,
   "metadata": {},
   "outputs": [
    {
     "ename": "ImportError",
     "evalue": "cannot import name 'final_df' from 'bin.NahalalVisualizer' (C:\\Users\\eliav.ARO\\Documents\\Projects\\NahalalPyViz\\bin\\NahalalVisualizer.py)",
     "output_type": "error",
     "traceback": [
      "\u001b[1;31m---------------------------------------------------------------------------\u001b[0m",
      "\u001b[1;31mImportError\u001b[0m                               Traceback (most recent call last)",
      "\u001b[1;32m<ipython-input-2-e2be7d424028>\u001b[0m in \u001b[0;36m<module>\u001b[1;34m\u001b[0m\n\u001b[0;32m      1\u001b[0m \u001b[1;32mimport\u001b[0m \u001b[0mpanel\u001b[0m \u001b[1;32mas\u001b[0m \u001b[0mpn\u001b[0m\u001b[1;33m\u001b[0m\u001b[1;33m\u001b[0m\u001b[0m\n\u001b[0;32m      2\u001b[0m \u001b[1;32mimport\u001b[0m \u001b[0mholoviews\u001b[0m \u001b[1;32mas\u001b[0m \u001b[0mhv\u001b[0m\u001b[1;33m\u001b[0m\u001b[1;33m\u001b[0m\u001b[0m\n\u001b[1;32m----> 3\u001b[1;33m \u001b[1;32mimport\u001b[0m \u001b[0mbin\u001b[0m\u001b[1;33m.\u001b[0m\u001b[0mNahalalVisualizer\u001b[0m \u001b[1;32mas\u001b[0m \u001b[0mnv\u001b[0m\u001b[1;33m\u001b[0m\u001b[1;33m\u001b[0m\u001b[0m\n\u001b[0m\u001b[0;32m      4\u001b[0m \u001b[1;33m\u001b[0m\u001b[0m\n\u001b[0;32m      5\u001b[0m \u001b[0mhv\u001b[0m\u001b[1;33m.\u001b[0m\u001b[0mextension\u001b[0m\u001b[1;33m(\u001b[0m\u001b[1;34m\"bokeh\"\u001b[0m\u001b[1;33m,\u001b[0m \u001b[1;34m\"matplotlib\"\u001b[0m\u001b[1;33m)\u001b[0m\u001b[1;33m\u001b[0m\u001b[1;33m\u001b[0m\u001b[0m\n",
      "\u001b[1;32m~\\Documents\\Projects\\NahalalPyViz\\bin\\NahalalVisualizer.py\u001b[0m in \u001b[0;36m<module>\u001b[1;34m\u001b[0m\n\u001b[0;32m      4\u001b[0m \u001b[1;32mimport\u001b[0m \u001b[0mnumpy\u001b[0m \u001b[1;32mas\u001b[0m \u001b[0mnp\u001b[0m\u001b[1;33m\u001b[0m\u001b[1;33m\u001b[0m\u001b[0m\n\u001b[0;32m      5\u001b[0m \u001b[1;33m\u001b[0m\u001b[0m\n\u001b[1;32m----> 6\u001b[1;33m \u001b[1;32mfrom\u001b[0m \u001b[0mbin\u001b[0m\u001b[1;33m.\u001b[0m\u001b[0mgraphs\u001b[0m \u001b[1;32mimport\u001b[0m \u001b[0mgraphPollutantRain\u001b[0m\u001b[1;33m,\u001b[0m \u001b[0mgraphPollutantByDate\u001b[0m\u001b[1;33m,\u001b[0m \u001b[0myLabel\u001b[0m\u001b[1;33m\u001b[0m\u001b[1;33m\u001b[0m\u001b[0m\n\u001b[0m\u001b[0;32m      7\u001b[0m \u001b[1;32mfrom\u001b[0m \u001b[0mbin\u001b[0m\u001b[1;33m.\u001b[0m\u001b[0mmaps\u001b[0m \u001b[1;32mimport\u001b[0m \u001b[0mmapPoint\u001b[0m\u001b[1;33m,\u001b[0m \u001b[0mmapDate\u001b[0m\u001b[1;33m,\u001b[0m \u001b[0msmp_pnt\u001b[0m\u001b[1;33m,\u001b[0m \u001b[0mnahalal\u001b[0m\u001b[1;33m,\u001b[0m \u001b[0mnahalal_sub\u001b[0m\u001b[1;33m\u001b[0m\u001b[1;33m\u001b[0m\u001b[0m\n\u001b[0;32m      8\u001b[0m \u001b[1;32mfrom\u001b[0m \u001b[0mbin\u001b[0m\u001b[1;33m.\u001b[0m\u001b[0mmeteoData\u001b[0m \u001b[1;32mimport\u001b[0m \u001b[0mdf_daily_rain\u001b[0m\u001b[1;33m\u001b[0m\u001b[1;33m\u001b[0m\u001b[0m\n",
      "\u001b[1;32m~\\Documents\\Projects\\NahalalPyViz\\bin\\graphs.py\u001b[0m in \u001b[0;36m<module>\u001b[1;34m\u001b[0m\n\u001b[0;32m      8\u001b[0m \u001b[1;32mfrom\u001b[0m \u001b[0mmatplotlib\u001b[0m\u001b[1;33m.\u001b[0m\u001b[0mcm\u001b[0m \u001b[1;32mimport\u001b[0m \u001b[0mScalarMappable\u001b[0m\u001b[1;33m\u001b[0m\u001b[1;33m\u001b[0m\u001b[0m\n\u001b[0;32m      9\u001b[0m \u001b[1;33m\u001b[0m\u001b[0m\n\u001b[1;32m---> 10\u001b[1;33m \u001b[1;32mfrom\u001b[0m \u001b[0mbin\u001b[0m\u001b[1;33m.\u001b[0m\u001b[0mNahalalVisualizer\u001b[0m \u001b[1;32mimport\u001b[0m \u001b[0mfinal_df\u001b[0m\u001b[1;33m\u001b[0m\u001b[1;33m\u001b[0m\u001b[0m\n\u001b[0m\u001b[0;32m     11\u001b[0m \u001b[1;33m\u001b[0m\u001b[0m\n\u001b[0;32m     12\u001b[0m \u001b[1;33m\u001b[0m\u001b[0m\n",
      "\u001b[1;31mImportError\u001b[0m: cannot import name 'final_df' from 'bin.NahalalVisualizer' (C:\\Users\\eliav.ARO\\Documents\\Projects\\NahalalPyViz\\bin\\NahalalVisualizer.py)"
     ]
    }
   ],
   "source": [
    "import panel as pn\n",
    "import holoviews as hv\n",
    "import bin.NahalalVisualizer as nv\n",
    "\n",
    "hv.extension(\"bokeh\", \"matplotlib\")"
   ]
  },
  {
   "cell_type": "code",
   "execution_count": 17,
   "metadata": {},
   "outputs": [],
   "source": [
    "nvc = nv.NahalalVisuzalizer()\n"
   ]
  },
  {
   "cell_type": "code",
   "execution_count": 4,
   "metadata": {},
   "outputs": [],
   "source": [
    "# pn.Row(nvc.widgets,nvc.returnMap)"
   ]
  },
  {
   "cell_type": "code",
   "execution_count": 18,
   "metadata": {},
   "outputs": [
    {
     "data": {
      "text/plain": [
       "<bokeh.server.server.Server at 0x2d1598220c8>"
      ]
     },
     "execution_count": 18,
     "metadata": {},
     "output_type": "execute_result"
    }
   ],
   "source": [
    "pane = pn.panel(\n",
    "    pn.Row(\n",
    "        pn.layout.HSpacer(),\n",
    "        pn.Column(\n",
    "            pn.Row(\n",
    "                pn.layout.HSpacer(),\n",
    "                nvc.view_header,#'Nahalal Visualizer',\n",
    "                pn.layout.HSpacer(),\n",
    "                width=1400,\n",
    "                background=\"#f2f2f2\",\n",
    "                \n",
    "            ),\n",
    "            pn.Column(\n",
    "                pn.Row(\n",
    "                    pn.Column(pn.layout.VSpacer(),nvc.widgets,pn.layout.VSpacer(),height=300),\n",
    "                    pn.Column(\n",
    "                        pn.Row(pn.Column(nvc.returnGraph),\n",
    "                               pn.Column(pn.layout.VSpacer(),nvc.returnMap,pn.layout.VSpacer())),\n",
    "                        pn.Row(\n",
    "                            pn.pane.Markdown(\n",
    "                                \"\"\"Created by Eliav Shtull-Trauring in Dr. Nirit Bernstein's Lab | <br>\n",
    "                                Institute of Soil, Water and Environmental Sciences | \n",
    "                                Agricultural Research Organization – Volcani Center\"\"\",\n",
    "                                width=1050,\n",
    "                                style={\n",
    "                                    \"font-family\": \"Courier, monospace\",\n",
    "                                    \"font-size\": \"16px\",\n",
    "                                },\n",
    "                            )\n",
    "                        ),\n",
    "                    ),\n",
    "                    \n",
    "                )\n",
    "            ),\n",
    "        ),\n",
    "        pn.layout.HSpacer(),\n",
    "    )\n",
    ")\n",
    "\n",
    "pane.show()"
   ]
  },
  {
   "cell_type": "code",
   "execution_count": 7,
   "metadata": {},
   "outputs": [
    {
     "data": {
      "text/plain": [
       "<bokeh.server.server.Server at 0x1380b53a508>"
      ]
     },
     "execution_count": 7,
     "metadata": {},
     "output_type": "execute_result"
    }
   ],
   "source": [
    "pane.show()"
   ]
  }
 ],
 "metadata": {
  "kernelspec": {
   "display_name": "pyviz37test",
   "language": "python",
   "name": "pyviz37test"
  },
  "language_info": {
   "codemirror_mode": {
    "name": "ipython",
    "version": 3
   },
   "file_extension": ".py",
   "mimetype": "text/x-python",
   "name": "python",
   "nbconvert_exporter": "python",
   "pygments_lexer": "ipython3",
   "version": "3.7.6"
  }
 },
 "nbformat": 4,
 "nbformat_minor": 2
}
